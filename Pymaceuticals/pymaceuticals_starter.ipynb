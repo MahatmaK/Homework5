{
 "cells": [
  {
   "cell_type": "markdown",
   "metadata": {},
   "source": [
    "## Observations and Insights "
   ]
  },
  {
   "cell_type": "markdown",
   "metadata": {},
   "source": [
    "1. Of the 4 drugs Capomulin, Ramicane, Infubinol, and Ceftamin, Capomulin and Ramicane had the smallest final tumor size on average\n",
    "\n",
    "2. There appears to be a notable correlation between weight and final tumor size (heavier the mouse, the larger the tumor size)\n",
    "\n",
    "3. Capomulin mice tend to have positive responses to the drug (reduced tumor size over time)"
   ]
  },
  {
   "cell_type": "code",
   "execution_count": 3,
   "metadata": {},
   "outputs": [
    {
     "data": {
      "text/html": [
       "<div>\n",
       "<style scoped>\n",
       "    .dataframe tbody tr th:only-of-type {\n",
       "        vertical-align: middle;\n",
       "    }\n",
       "\n",
       "    .dataframe tbody tr th {\n",
       "        vertical-align: top;\n",
       "    }\n",
       "\n",
       "    .dataframe thead th {\n",
       "        text-align: right;\n",
       "    }\n",
       "</style>\n",
       "<table border=\"1\" class=\"dataframe\">\n",
       "  <thead>\n",
       "    <tr style=\"text-align: right;\">\n",
       "      <th></th>\n",
       "      <th>Mouse ID</th>\n",
       "      <th>Timepoint</th>\n",
       "      <th>Tumor Volume (mm3)</th>\n",
       "      <th>Metastatic Sites</th>\n",
       "      <th>Drug Regimen</th>\n",
       "      <th>Sex</th>\n",
       "      <th>Age_months</th>\n",
       "      <th>Weight (g)</th>\n",
       "    </tr>\n",
       "  </thead>\n",
       "  <tbody>\n",
       "    <tr>\n",
       "      <th>0</th>\n",
       "      <td>b128</td>\n",
       "      <td>0</td>\n",
       "      <td>45.000000</td>\n",
       "      <td>0</td>\n",
       "      <td>Capomulin</td>\n",
       "      <td>Female</td>\n",
       "      <td>9</td>\n",
       "      <td>22</td>\n",
       "    </tr>\n",
       "    <tr>\n",
       "      <th>1</th>\n",
       "      <td>b128</td>\n",
       "      <td>5</td>\n",
       "      <td>45.651331</td>\n",
       "      <td>0</td>\n",
       "      <td>Capomulin</td>\n",
       "      <td>Female</td>\n",
       "      <td>9</td>\n",
       "      <td>22</td>\n",
       "    </tr>\n",
       "    <tr>\n",
       "      <th>2</th>\n",
       "      <td>b128</td>\n",
       "      <td>10</td>\n",
       "      <td>43.270852</td>\n",
       "      <td>0</td>\n",
       "      <td>Capomulin</td>\n",
       "      <td>Female</td>\n",
       "      <td>9</td>\n",
       "      <td>22</td>\n",
       "    </tr>\n",
       "    <tr>\n",
       "      <th>3</th>\n",
       "      <td>b128</td>\n",
       "      <td>15</td>\n",
       "      <td>43.784893</td>\n",
       "      <td>0</td>\n",
       "      <td>Capomulin</td>\n",
       "      <td>Female</td>\n",
       "      <td>9</td>\n",
       "      <td>22</td>\n",
       "    </tr>\n",
       "    <tr>\n",
       "      <th>4</th>\n",
       "      <td>b128</td>\n",
       "      <td>20</td>\n",
       "      <td>42.731552</td>\n",
       "      <td>0</td>\n",
       "      <td>Capomulin</td>\n",
       "      <td>Female</td>\n",
       "      <td>9</td>\n",
       "      <td>22</td>\n",
       "    </tr>\n",
       "    <tr>\n",
       "      <th>...</th>\n",
       "      <td>...</td>\n",
       "      <td>...</td>\n",
       "      <td>...</td>\n",
       "      <td>...</td>\n",
       "      <td>...</td>\n",
       "      <td>...</td>\n",
       "      <td>...</td>\n",
       "      <td>...</td>\n",
       "    </tr>\n",
       "    <tr>\n",
       "      <th>1888</th>\n",
       "      <td>m601</td>\n",
       "      <td>25</td>\n",
       "      <td>33.118756</td>\n",
       "      <td>1</td>\n",
       "      <td>Capomulin</td>\n",
       "      <td>Male</td>\n",
       "      <td>22</td>\n",
       "      <td>17</td>\n",
       "    </tr>\n",
       "    <tr>\n",
       "      <th>1889</th>\n",
       "      <td>m601</td>\n",
       "      <td>30</td>\n",
       "      <td>31.758275</td>\n",
       "      <td>1</td>\n",
       "      <td>Capomulin</td>\n",
       "      <td>Male</td>\n",
       "      <td>22</td>\n",
       "      <td>17</td>\n",
       "    </tr>\n",
       "    <tr>\n",
       "      <th>1890</th>\n",
       "      <td>m601</td>\n",
       "      <td>35</td>\n",
       "      <td>30.834357</td>\n",
       "      <td>1</td>\n",
       "      <td>Capomulin</td>\n",
       "      <td>Male</td>\n",
       "      <td>22</td>\n",
       "      <td>17</td>\n",
       "    </tr>\n",
       "    <tr>\n",
       "      <th>1891</th>\n",
       "      <td>m601</td>\n",
       "      <td>40</td>\n",
       "      <td>31.378045</td>\n",
       "      <td>1</td>\n",
       "      <td>Capomulin</td>\n",
       "      <td>Male</td>\n",
       "      <td>22</td>\n",
       "      <td>17</td>\n",
       "    </tr>\n",
       "    <tr>\n",
       "      <th>1892</th>\n",
       "      <td>m601</td>\n",
       "      <td>45</td>\n",
       "      <td>28.430964</td>\n",
       "      <td>1</td>\n",
       "      <td>Capomulin</td>\n",
       "      <td>Male</td>\n",
       "      <td>22</td>\n",
       "      <td>17</td>\n",
       "    </tr>\n",
       "  </tbody>\n",
       "</table>\n",
       "<p>1893 rows × 8 columns</p>\n",
       "</div>"
      ],
      "text/plain": [
       "     Mouse ID  Timepoint  Tumor Volume (mm3)  Metastatic Sites Drug Regimen  \\\n",
       "0        b128          0           45.000000                 0    Capomulin   \n",
       "1        b128          5           45.651331                 0    Capomulin   \n",
       "2        b128         10           43.270852                 0    Capomulin   \n",
       "3        b128         15           43.784893                 0    Capomulin   \n",
       "4        b128         20           42.731552                 0    Capomulin   \n",
       "...       ...        ...                 ...               ...          ...   \n",
       "1888     m601         25           33.118756                 1    Capomulin   \n",
       "1889     m601         30           31.758275                 1    Capomulin   \n",
       "1890     m601         35           30.834357                 1    Capomulin   \n",
       "1891     m601         40           31.378045                 1    Capomulin   \n",
       "1892     m601         45           28.430964                 1    Capomulin   \n",
       "\n",
       "         Sex  Age_months  Weight (g)  \n",
       "0     Female           9          22  \n",
       "1     Female           9          22  \n",
       "2     Female           9          22  \n",
       "3     Female           9          22  \n",
       "4     Female           9          22  \n",
       "...      ...         ...         ...  \n",
       "1888    Male          22          17  \n",
       "1889    Male          22          17  \n",
       "1890    Male          22          17  \n",
       "1891    Male          22          17  \n",
       "1892    Male          22          17  \n",
       "\n",
       "[1893 rows x 8 columns]"
      ]
     },
     "execution_count": 3,
     "metadata": {},
     "output_type": "execute_result"
    }
   ],
   "source": [
    "# Dependencies and Setup\n",
    "import matplotlib.pyplot as plt\n",
    "import pandas as pd\n",
    "import scipy.stats as st\n",
    "from scipy.stats import linregress\n",
    "import numpy as np\n",
    "import random\n",
    "\n",
    "# Study data files\n",
    "mouse_metadata_path = \"data/Mouse_metadata.csv\"\n",
    "study_results_path = \"data/Study_results.csv\"\n",
    "\n",
    "# Read the mouse data and the study results\n",
    "mouse_metadata = pd.read_csv(mouse_metadata_path)\n",
    "study_results = pd.read_csv(study_results_path)\n",
    "\n",
    "# Combine the data into a single dataset\n",
    "combined_data = study_results.merge(mouse_metadata, on = \"Mouse ID\")\n",
    "\n",
    "# Display the data table for preview\n",
    "combined_data"
   ]
  },
  {
   "cell_type": "code",
   "execution_count": 4,
   "metadata": {
    "scrolled": true
   },
   "outputs": [
    {
     "data": {
      "text/html": [
       "<div>\n",
       "<style scoped>\n",
       "    .dataframe tbody tr th:only-of-type {\n",
       "        vertical-align: middle;\n",
       "    }\n",
       "\n",
       "    .dataframe tbody tr th {\n",
       "        vertical-align: top;\n",
       "    }\n",
       "\n",
       "    .dataframe thead th {\n",
       "        text-align: right;\n",
       "    }\n",
       "</style>\n",
       "<table border=\"1\" class=\"dataframe\">\n",
       "  <thead>\n",
       "    <tr style=\"text-align: right;\">\n",
       "      <th></th>\n",
       "      <th>Mouse_ID</th>\n",
       "      <th>Timepoint</th>\n",
       "      <th>Tumor Volume (mm3)</th>\n",
       "      <th>Metastatic Sites</th>\n",
       "      <th>Drug Regimen</th>\n",
       "      <th>Sex</th>\n",
       "      <th>Age_months</th>\n",
       "      <th>Weight (g)</th>\n",
       "    </tr>\n",
       "  </thead>\n",
       "  <tbody>\n",
       "    <tr>\n",
       "      <th>0</th>\n",
       "      <td>b128</td>\n",
       "      <td>0</td>\n",
       "      <td>45.000000</td>\n",
       "      <td>0</td>\n",
       "      <td>Capomulin</td>\n",
       "      <td>Female</td>\n",
       "      <td>9</td>\n",
       "      <td>22</td>\n",
       "    </tr>\n",
       "    <tr>\n",
       "      <th>1</th>\n",
       "      <td>b128</td>\n",
       "      <td>5</td>\n",
       "      <td>45.651331</td>\n",
       "      <td>0</td>\n",
       "      <td>Capomulin</td>\n",
       "      <td>Female</td>\n",
       "      <td>9</td>\n",
       "      <td>22</td>\n",
       "    </tr>\n",
       "    <tr>\n",
       "      <th>2</th>\n",
       "      <td>b128</td>\n",
       "      <td>10</td>\n",
       "      <td>43.270852</td>\n",
       "      <td>0</td>\n",
       "      <td>Capomulin</td>\n",
       "      <td>Female</td>\n",
       "      <td>9</td>\n",
       "      <td>22</td>\n",
       "    </tr>\n",
       "    <tr>\n",
       "      <th>3</th>\n",
       "      <td>b128</td>\n",
       "      <td>15</td>\n",
       "      <td>43.784893</td>\n",
       "      <td>0</td>\n",
       "      <td>Capomulin</td>\n",
       "      <td>Female</td>\n",
       "      <td>9</td>\n",
       "      <td>22</td>\n",
       "    </tr>\n",
       "    <tr>\n",
       "      <th>4</th>\n",
       "      <td>b128</td>\n",
       "      <td>20</td>\n",
       "      <td>42.731552</td>\n",
       "      <td>0</td>\n",
       "      <td>Capomulin</td>\n",
       "      <td>Female</td>\n",
       "      <td>9</td>\n",
       "      <td>22</td>\n",
       "    </tr>\n",
       "    <tr>\n",
       "      <th>...</th>\n",
       "      <td>...</td>\n",
       "      <td>...</td>\n",
       "      <td>...</td>\n",
       "      <td>...</td>\n",
       "      <td>...</td>\n",
       "      <td>...</td>\n",
       "      <td>...</td>\n",
       "      <td>...</td>\n",
       "    </tr>\n",
       "    <tr>\n",
       "      <th>1888</th>\n",
       "      <td>m601</td>\n",
       "      <td>25</td>\n",
       "      <td>33.118756</td>\n",
       "      <td>1</td>\n",
       "      <td>Capomulin</td>\n",
       "      <td>Male</td>\n",
       "      <td>22</td>\n",
       "      <td>17</td>\n",
       "    </tr>\n",
       "    <tr>\n",
       "      <th>1889</th>\n",
       "      <td>m601</td>\n",
       "      <td>30</td>\n",
       "      <td>31.758275</td>\n",
       "      <td>1</td>\n",
       "      <td>Capomulin</td>\n",
       "      <td>Male</td>\n",
       "      <td>22</td>\n",
       "      <td>17</td>\n",
       "    </tr>\n",
       "    <tr>\n",
       "      <th>1890</th>\n",
       "      <td>m601</td>\n",
       "      <td>35</td>\n",
       "      <td>30.834357</td>\n",
       "      <td>1</td>\n",
       "      <td>Capomulin</td>\n",
       "      <td>Male</td>\n",
       "      <td>22</td>\n",
       "      <td>17</td>\n",
       "    </tr>\n",
       "    <tr>\n",
       "      <th>1891</th>\n",
       "      <td>m601</td>\n",
       "      <td>40</td>\n",
       "      <td>31.378045</td>\n",
       "      <td>1</td>\n",
       "      <td>Capomulin</td>\n",
       "      <td>Male</td>\n",
       "      <td>22</td>\n",
       "      <td>17</td>\n",
       "    </tr>\n",
       "    <tr>\n",
       "      <th>1892</th>\n",
       "      <td>m601</td>\n",
       "      <td>45</td>\n",
       "      <td>28.430964</td>\n",
       "      <td>1</td>\n",
       "      <td>Capomulin</td>\n",
       "      <td>Male</td>\n",
       "      <td>22</td>\n",
       "      <td>17</td>\n",
       "    </tr>\n",
       "  </tbody>\n",
       "</table>\n",
       "<p>1880 rows × 8 columns</p>\n",
       "</div>"
      ],
      "text/plain": [
       "     Mouse_ID  Timepoint  Tumor Volume (mm3)  Metastatic Sites Drug Regimen  \\\n",
       "0        b128          0           45.000000                 0    Capomulin   \n",
       "1        b128          5           45.651331                 0    Capomulin   \n",
       "2        b128         10           43.270852                 0    Capomulin   \n",
       "3        b128         15           43.784893                 0    Capomulin   \n",
       "4        b128         20           42.731552                 0    Capomulin   \n",
       "...       ...        ...                 ...               ...          ...   \n",
       "1888     m601         25           33.118756                 1    Capomulin   \n",
       "1889     m601         30           31.758275                 1    Capomulin   \n",
       "1890     m601         35           30.834357                 1    Capomulin   \n",
       "1891     m601         40           31.378045                 1    Capomulin   \n",
       "1892     m601         45           28.430964                 1    Capomulin   \n",
       "\n",
       "         Sex  Age_months  Weight (g)  \n",
       "0     Female           9          22  \n",
       "1     Female           9          22  \n",
       "2     Female           9          22  \n",
       "3     Female           9          22  \n",
       "4     Female           9          22  \n",
       "...      ...         ...         ...  \n",
       "1888    Male          22          17  \n",
       "1889    Male          22          17  \n",
       "1890    Male          22          17  \n",
       "1891    Male          22          17  \n",
       "1892    Male          22          17  \n",
       "\n",
       "[1880 rows x 8 columns]"
      ]
     },
     "execution_count": 4,
     "metadata": {},
     "output_type": "execute_result"
    }
   ],
   "source": [
    "#Dropping duplicate rows\n",
    "\n",
    "#Find duplicate rows indicated by boolean series\n",
    "dups_bool = combined_data.duplicated(subset=['Mouse ID','Timepoint'])\n",
    "\n",
    "#Add duplicate boolean series to data frame \n",
    "bool_combined_data = combined_data\n",
    "bool_combined_data[\"Duplicates\"]= dups_bool\n",
    "\n",
    "#Iterate through 'Duplicates' and find Mouse ID duplicates\n",
    "dup_mouse_id_index = []\n",
    "\n",
    "for index in range(0,len(bool_combined_data)):\n",
    "    if bool_combined_data.loc[index][\"Duplicates\"] == True:\n",
    "        dup_mouse_id_index.append(bool_combined_data.loc[index][\"Mouse ID\"])\n",
    "    else:\n",
    "        next\n",
    "\n",
    "#Get rid of duplicate mice IDs\n",
    "bad_mice = list(set(dup_mouse_id_index))\n",
    "\n",
    "#Iterate through data and drop the bad mice found (only one mouse in this case)\n",
    "clean_data = bool_combined_data\n",
    "clean_data = clean_data.rename({'Mouse ID' : 'Mouse_ID'}, axis = 1)\n",
    "\n",
    "for bad_mouse in bad_mice:\n",
    "    clean_data = clean_data[clean_data.Mouse_ID != bad_mouse]\n",
    "\n",
    "clean_data = clean_data.drop(columns = \"Duplicates\")\n",
    "clean_data\n"
   ]
  },
  {
   "cell_type": "code",
   "execution_count": 5,
   "metadata": {},
   "outputs": [
    {
     "data": {
      "text/plain": [
       "1880"
      ]
     },
     "execution_count": 5,
     "metadata": {},
     "output_type": "execute_result"
    }
   ],
   "source": [
    "# Checking the number of mice in the clean DataFrame.\n",
    "num_mice = len(clean_data)\n",
    "num_mice"
   ]
  },
  {
   "cell_type": "markdown",
   "metadata": {},
   "source": [
    "## Summary Statistics"
   ]
  },
  {
   "cell_type": "code",
   "execution_count": 6,
   "metadata": {},
   "outputs": [
    {
     "data": {
      "text/html": [
       "<div>\n",
       "<style scoped>\n",
       "    .dataframe tbody tr th:only-of-type {\n",
       "        vertical-align: middle;\n",
       "    }\n",
       "\n",
       "    .dataframe tbody tr th {\n",
       "        vertical-align: top;\n",
       "    }\n",
       "\n",
       "    .dataframe thead tr th {\n",
       "        text-align: left;\n",
       "    }\n",
       "\n",
       "    .dataframe thead tr:last-of-type th {\n",
       "        text-align: right;\n",
       "    }\n",
       "</style>\n",
       "<table border=\"1\" class=\"dataframe\">\n",
       "  <thead>\n",
       "    <tr>\n",
       "      <th></th>\n",
       "      <th colspan=\"4\" halign=\"left\">Tumor Volume (mm3)</th>\n",
       "    </tr>\n",
       "    <tr>\n",
       "      <th></th>\n",
       "      <th>Mean</th>\n",
       "      <th>Median</th>\n",
       "      <th>Standard_Dev</th>\n",
       "      <th>Standard_Err</th>\n",
       "    </tr>\n",
       "    <tr>\n",
       "      <th>Drug Regimen</th>\n",
       "      <th></th>\n",
       "      <th></th>\n",
       "      <th></th>\n",
       "      <th></th>\n",
       "    </tr>\n",
       "  </thead>\n",
       "  <tbody>\n",
       "    <tr>\n",
       "      <th>Capomulin</th>\n",
       "      <td>40.68</td>\n",
       "      <td>41.56</td>\n",
       "      <td>4.99</td>\n",
       "      <td>0.33</td>\n",
       "    </tr>\n",
       "    <tr>\n",
       "      <th>Ceftamin</th>\n",
       "      <td>52.59</td>\n",
       "      <td>51.78</td>\n",
       "      <td>6.27</td>\n",
       "      <td>0.47</td>\n",
       "    </tr>\n",
       "    <tr>\n",
       "      <th>Infubinol</th>\n",
       "      <td>52.88</td>\n",
       "      <td>51.82</td>\n",
       "      <td>6.57</td>\n",
       "      <td>0.49</td>\n",
       "    </tr>\n",
       "    <tr>\n",
       "      <th>Ketapril</th>\n",
       "      <td>55.24</td>\n",
       "      <td>53.70</td>\n",
       "      <td>8.28</td>\n",
       "      <td>0.60</td>\n",
       "    </tr>\n",
       "    <tr>\n",
       "      <th>Naftisol</th>\n",
       "      <td>54.33</td>\n",
       "      <td>52.51</td>\n",
       "      <td>8.13</td>\n",
       "      <td>0.60</td>\n",
       "    </tr>\n",
       "    <tr>\n",
       "      <th>Placebo</th>\n",
       "      <td>54.03</td>\n",
       "      <td>52.29</td>\n",
       "      <td>7.82</td>\n",
       "      <td>0.58</td>\n",
       "    </tr>\n",
       "    <tr>\n",
       "      <th>Propriva</th>\n",
       "      <td>52.32</td>\n",
       "      <td>50.45</td>\n",
       "      <td>6.62</td>\n",
       "      <td>0.54</td>\n",
       "    </tr>\n",
       "    <tr>\n",
       "      <th>Ramicane</th>\n",
       "      <td>40.22</td>\n",
       "      <td>40.67</td>\n",
       "      <td>4.85</td>\n",
       "      <td>0.32</td>\n",
       "    </tr>\n",
       "    <tr>\n",
       "      <th>Stelasyn</th>\n",
       "      <td>54.23</td>\n",
       "      <td>52.43</td>\n",
       "      <td>7.71</td>\n",
       "      <td>0.57</td>\n",
       "    </tr>\n",
       "    <tr>\n",
       "      <th>Zoniferol</th>\n",
       "      <td>53.24</td>\n",
       "      <td>51.82</td>\n",
       "      <td>6.97</td>\n",
       "      <td>0.52</td>\n",
       "    </tr>\n",
       "  </tbody>\n",
       "</table>\n",
       "</div>"
      ],
      "text/plain": [
       "             Tumor Volume (mm3)                                 \n",
       "                           Mean Median Standard_Dev Standard_Err\n",
       "Drug Regimen                                                    \n",
       "Capomulin                 40.68  41.56         4.99         0.33\n",
       "Ceftamin                  52.59  51.78         6.27         0.47\n",
       "Infubinol                 52.88  51.82         6.57         0.49\n",
       "Ketapril                  55.24  53.70         8.28         0.60\n",
       "Naftisol                  54.33  52.51         8.13         0.60\n",
       "Placebo                   54.03  52.29         7.82         0.58\n",
       "Propriva                  52.32  50.45         6.62         0.54\n",
       "Ramicane                  40.22  40.67         4.85         0.32\n",
       "Stelasyn                  54.23  52.43         7.71         0.57\n",
       "Zoniferol                 53.24  51.82         6.97         0.52"
      ]
     },
     "execution_count": 6,
     "metadata": {},
     "output_type": "execute_result"
    }
   ],
   "source": [
    "# Create Summary Data Frame\n",
    "\n",
    "\n",
    "#Condense data frame to two columns we are intested in (Drug Regimen and Tumor Volume)\n",
    "codensed_df = clean_data.loc[:,['Drug Regimen','Tumor Volume (mm3)']]\n",
    "\n",
    "#Calculate mean, median, standard deviation, and standard error for each drug\n",
    "summary_df = codensed_df.groupby('Drug Regimen').agg({'Tumor Volume (mm3)': [np.mean, np.median,np.std, st.sem]})\n",
    "\n",
    "#Format to 2 decimal places\n",
    "for header in summary_df:\n",
    "    summary_df[header]=summary_df[header].apply('{:.2f}'.format)\n",
    "\n",
    "#Rename df headers   \n",
    "summary_df = summary_df.rename({'mean':'Mean','median':'Median','std':'Standard_Dev','sem':'Standard_Err'}, axis = 1)\n",
    "summary_df\n"
   ]
  },
  {
   "cell_type": "code",
   "execution_count": 7,
   "metadata": {},
   "outputs": [],
   "source": [
    "# Generate a summary statistics table of mean, median, variance, standard deviation, and SEM of the tumor volume for each regimen\n",
    "# Use groupby and summary statistical methods to calculate the following properties of each drug regimen: \n",
    "# mean, median, variance, standard deviation, and SEM of the tumor volume. \n",
    "# Assemble the resulting series into a single summary dataframe.\n",
    "\n"
   ]
  },
  {
   "cell_type": "code",
   "execution_count": 8,
   "metadata": {},
   "outputs": [],
   "source": [
    "# Generate a summary statistics table of mean, median, variance, standard deviation, and SEM of the tumor volume for each regimen\n",
    "\n",
    "# Using the aggregation method, produce the same summary statistics in a single line\n"
   ]
  },
  {
   "cell_type": "markdown",
   "metadata": {},
   "source": [
    "## Bar and Pie Charts"
   ]
  },
  {
   "cell_type": "code",
   "execution_count": 9,
   "metadata": {},
   "outputs": [],
   "source": [
    "#Create series of total measurements for each drug \n",
    "\n",
    "#Create series of total measurments of each drug\n",
    "total_meas_series = clean_data['Drug Regimen'].value_counts()\n",
    "\n",
    "#Identify list of drugs in study and how many measurements as x and y values respectively for bar plot\n",
    "x_drug_regimen_list = total_meas_series.index.values.tolist()\n",
    "y_drug_meas_list = total_meas_series.values.tolist()\n"
   ]
  },
  {
   "cell_type": "code",
   "execution_count": 10,
   "metadata": {},
   "outputs": [
    {
     "data": {
      "image/png": "[encoded data removed]",
      "text/plain": [
       "<Figure size 432x288 with 1 Axes>"
      ]
     },
     "metadata": {
      "needs_background": "light"
     },
     "output_type": "display_data"
    }
   ],
   "source": [
    "# Generate a bar plot showing the total number of measurements taken on each drug regimen using DataFrame.plot.\n",
    "\n",
    "#Make bar plot with title\n",
    "drug_meas_graph = total_meas_series.plot(kind = 'bar',title = \"Measurements per Drug\")\n",
    "\n",
    "#Change x and y labels\n",
    "drug_meas_graph.set_xlabel(\"Drugs\")\n",
    "drug_meas_graph = drug_meas_graph.set_ylabel(\"Measurements\")\n"
   ]
  },
  {
   "cell_type": "code",
   "execution_count": 11,
   "metadata": {},
   "outputs": [
    {
     "data": {
      "image/png": "[encoded data removed]",
      "text/plain": [
       "<Figure size 432x288 with 1 Axes>"
      ]
     },
     "metadata": {
      "needs_background": "light"
     },
     "output_type": "display_data"
    }
   ],
   "source": [
    "# Generate a bar plot showing the total number of measurements taken on each drug regimen using pyplot.\n",
    "\n",
    "#Make the bar plot with title and identical width\n",
    "drug_meas_graph2 = plt.bar(x_drug_regimen_list,y_drug_meas_list,width=.5)\n",
    "\n",
    "#Rotate the x values \n",
    "drug_meas_graph2 = plt.xticks(x_drug_regimen_list,rotation = 'vertical')\n",
    "\n",
    "#Change x and y labels\n",
    "drug_meas_graph2 = plt.xlabel('Drugs')\n",
    "drug_meas_graph2 = plt.ylabel('Measurements')\n",
    "drug_meas_graph2 = plt.title(\"Measurements per Drug\")"
   ]
  },
  {
   "cell_type": "code",
   "execution_count": 12,
   "metadata": {},
   "outputs": [],
   "source": [
    "# Determine x and y values for pie chart for female vs male mice\n",
    "\n",
    "#Count male vs female mice occurrences\n",
    "mouse_sex_series = clean_data['Sex'].value_counts()\n",
    "\n",
    "#Separate index and values as x and y variables for pie chart\n",
    "label_gender_list = mouse_sex_series.index.values.tolist()\n",
    "gender_count = mouse_sex_series.values.tolist()\n",
    "\n"
   ]
  },
  {
   "cell_type": "code",
   "execution_count": 13,
   "metadata": {},
   "outputs": [
    {
     "data": {
      "image/png": "[encoded data removed]",
      "text/plain": [
       "<Figure size 432x288 with 1 Axes>"
      ]
     },
     "metadata": {},
     "output_type": "display_data"
    }
   ],
   "source": [
    "# Generate a pie plot showing the distribution of female versus male mice using pandas\n",
    "explode = (.1,0)\n",
    "mouse_sex_graph = mouse_sex_series.plot(kind=\"pie\",\n",
    "                                        autopct = '%1.1f%%',\n",
    "                                        explode = explode,\n",
    "                                        shadow = True,\n",
    "                                        title =\"Male vs Female Mice\")\n"
   ]
  },
  {
   "cell_type": "code",
   "execution_count": 14,
   "metadata": {
    "scrolled": true
   },
   "outputs": [
    {
     "data": {
      "image/png": "[encoded data removed]",
      "text/plain": [
       "<Figure size 432x288 with 1 Axes>"
      ]
     },
     "metadata": {},
     "output_type": "display_data"
    }
   ],
   "source": [
    "# Generate a pie plot showing the distribution of female versus male mice using pyplot\n",
    "\n",
    "mouse_sex_graph2 = plt.pie(gender_count,explode=explode,labels = label_gender_list,autopct=\"%1.1f%%\",shadow=True)\n",
    "mouse_sex_graph2 = plt.ylabel('Sex')\n",
    "mouse_sex_graph2 = plt.title(\"Male vs Female Mice\")"
   ]
  },
  {
   "cell_type": "markdown",
   "metadata": {},
   "source": [
    "## Quartiles, Outliers and Boxplots"
   ]
  },
  {
   "cell_type": "code",
   "execution_count": 15,
   "metadata": {
    "scrolled": true
   },
   "outputs": [
    {
     "data": {
      "text/html": [
       "<div>\n",
       "<style scoped>\n",
       "    .dataframe tbody tr th:only-of-type {\n",
       "        vertical-align: middle;\n",
       "    }\n",
       "\n",
       "    .dataframe tbody tr th {\n",
       "        vertical-align: top;\n",
       "    }\n",
       "\n",
       "    .dataframe thead th {\n",
       "        text-align: right;\n",
       "    }\n",
       "</style>\n",
       "<table border=\"1\" class=\"dataframe\">\n",
       "  <thead>\n",
       "    <tr style=\"text-align: right;\">\n",
       "      <th></th>\n",
       "      <th>Mouse_ID</th>\n",
       "      <th>Timepoint</th>\n",
       "      <th>Tumor Volume (mm3)</th>\n",
       "    </tr>\n",
       "    <tr>\n",
       "      <th>Drug Regimen</th>\n",
       "      <th></th>\n",
       "      <th></th>\n",
       "      <th></th>\n",
       "    </tr>\n",
       "  </thead>\n",
       "  <tbody>\n",
       "    <tr>\n",
       "      <th>Infubinol</th>\n",
       "      <td>a203</td>\n",
       "      <td>45</td>\n",
       "      <td>67.973419</td>\n",
       "    </tr>\n",
       "    <tr>\n",
       "      <th>Infubinol</th>\n",
       "      <td>a251</td>\n",
       "      <td>45</td>\n",
       "      <td>65.525743</td>\n",
       "    </tr>\n",
       "    <tr>\n",
       "      <th>Placebo</th>\n",
       "      <td>a262</td>\n",
       "      <td>45</td>\n",
       "      <td>70.717621</td>\n",
       "    </tr>\n",
       "    <tr>\n",
       "      <th>Ceftamin</th>\n",
       "      <td>a275</td>\n",
       "      <td>45</td>\n",
       "      <td>62.999356</td>\n",
       "    </tr>\n",
       "    <tr>\n",
       "      <th>Stelasyn</th>\n",
       "      <td>a366</td>\n",
       "      <td>30</td>\n",
       "      <td>63.440686</td>\n",
       "    </tr>\n",
       "  </tbody>\n",
       "</table>\n",
       "</div>"
      ],
      "text/plain": [
       "             Mouse_ID  Timepoint  Tumor Volume (mm3)\n",
       "Drug Regimen                                        \n",
       "Infubinol        a203         45           67.973419\n",
       "Infubinol        a251         45           65.525743\n",
       "Placebo          a262         45           70.717621\n",
       "Ceftamin         a275         45           62.999356\n",
       "Stelasyn         a366         30           63.440686"
      ]
     },
     "execution_count": 15,
     "metadata": {},
     "output_type": "execute_result"
    }
   ],
   "source": [
    "#Find greatest value of Timepoint for each mouse\n",
    "max_timepoint = clean_data.groupby(\"Mouse_ID\").max()\n",
    "max_timepoint = max_timepoint.loc[:,\"Timepoint\"]\n",
    "\n",
    "#Create list \n",
    "max_timepoint_indices = max_timepoint.index.values\n",
    "\n",
    "#Iterate through clean data and find Tumor Volume where Mouse ID and greatest Timepoint match\n",
    "#Results come out to index in clean data we want\n",
    "max_tumor_index = []\n",
    "for index in range(0,len(max_timepoint)):   \n",
    "    index_new = clean_data.loc[(clean_data[\"Mouse_ID\"] == max_timepoint_indices[index]) & (\n",
    "        clean_data[\"Timepoint\"] == max_timepoint[index]),:].index.values\n",
    "    max_tumor_index.append(index_new[0])\n",
    "    \n",
    "#Pull wanted indices from clean data\n",
    "mouse_tumor_df = clean_data.loc[max_tumor_index,['Mouse_ID','Timepoint', 'Tumor Volume (mm3)']]\n",
    "\n",
    "#Merge new table with study results to add drug used and clean up table\n",
    "mouse_tumor_df = mouse_tumor_df.merge(mouse_metadata,left_on=\"Mouse_ID\",right_on=\"Mouse ID\")\n",
    "mouse_tumor_df = mouse_tumor_df.set_index('Drug Regimen')\n",
    "mouse_tumor_df = mouse_tumor_df.drop(columns=['Mouse ID','Sex','Age_months','Weight (g)'])\n",
    "mouse_tumor_df.head()"
   ]
  },
  {
   "cell_type": "code",
   "execution_count": 78,
   "metadata": {
    "scrolled": false
   },
   "outputs": [
    {
     "data": {
      "image/png": "[encoded data removed]",
      "text/plain": [
       "<Figure size 432x1296 with 1 Axes>"
      ]
     },
     "metadata": {
      "needs_background": "light"
     },
     "output_type": "display_data"
    },
    {
     "name": "stdout",
     "output_type": "stream",
     "text": [
      "The box plot stats the Capomulin trials are:\n",
      "Lower Quartile: 32.38\n",
      "Upper Quartile: 40.16\n",
      "IQR: 7.78\n",
      "Outlier Upper Bound: 51.83\n",
      "Outlier Lower Bound: 20.70\n"
     ]
    },
    {
     "data": {
      "image/png": "[encoded data removed]",
      "text/plain": [
       "<Figure size 432x288 with 1 Axes>"
      ]
     },
     "metadata": {
      "needs_background": "light"
     },
     "output_type": "display_data"
    },
    {
     "name": "stdout",
     "output_type": "stream",
     "text": [
      "The box plot stats the Ramicane trials are:\n",
      "Lower Quartile: 31.56\n",
      "Upper Quartile: 40.66\n",
      "IQR: 9.10\n",
      "Outlier Upper Bound: 54.31\n",
      "Outlier Lower Bound: 17.91\n"
     ]
    },
    {
     "data": {
      "image/png": "[encoded data removed]",
      "text/plain": [
       "<Figure size 432x288 with 1 Axes>"
      ]
     },
     "metadata": {
      "needs_background": "light"
     },
     "output_type": "display_data"
    },
    {
     "name": "stdout",
     "output_type": "stream",
     "text": [
      "The box plot stats the Infubinol trials are:\n",
      "Lower Quartile: 54.05\n",
      "Upper Quartile: 65.53\n",
      "IQR: 11.48\n",
      "Outlier Upper Bound: 82.74\n",
      "Outlier Lower Bound: 36.83\n",
      "Outliers: 36.32 \n"
     ]
    },
    {
     "data": {
      "image/png": "[encoded data removed]",
      "text/plain": [
       "<Figure size 432x288 with 1 Axes>"
      ]
     },
     "metadata": {
      "needs_background": "light"
     },
     "output_type": "display_data"
    },
    {
     "name": "stdout",
     "output_type": "stream",
     "text": [
      "The box plot stats the Ceftamin trials are:\n",
      "Lower Quartile: 48.72\n",
      "Upper Quartile: 64.30\n",
      "IQR: 15.58\n",
      "Outlier Upper Bound: 87.67\n",
      "Outlier Lower Bound: 25.36\n"
     ]
    }
   ],
   "source": [
    "#Create subplots\n",
    "#fig, (ax1,ax2,ax3,ax4) = plt.subplots(4,squeeze=False)\n",
    "fig = plt.figure(figsize=(6,18))\n",
    "fig.suptitle(\"Drug Trials\", y=.93,fontsize =20)\n",
    "\n",
    "#Create series for each of the four drugs\n",
    "Capomulin_list= mouse_tumor_df.loc['Capomulin','Tumor Volume (mm3)']\n",
    "Ramicane_list= mouse_tumor_df.loc['Ramicane','Tumor Volume (mm3)']\n",
    "Infubinol_list= mouse_tumor_df.loc['Infubinol','Tumor Volume (mm3)']\n",
    "Ceftamin_list= mouse_tumor_df.loc['Ceftamin','Tumor Volume (mm3)']\n",
    "\n",
    "#Create list of 4 drugs\n",
    "drugs = ['Capomulin','Ramicane','Infubinol','Ceftamin']\n",
    "\n",
    "#Create empty lists of variables we want to calculate. Will be appended to in 'for' loop\n",
    "lowerq_list = []\n",
    "upperq_list = []\n",
    "iqr_list = []\n",
    "lower_bound_list = []\n",
    "upper_bound_list = []\n",
    "outlier_list = []\n",
    "\n",
    "#Variable used to plot subplots based on index\n",
    "i = 411\n",
    "\n",
    "#Calculate desired variables\n",
    "for drug in drugs:\n",
    "        \n",
    "    #Calculate lower and upper quartiles\n",
    "    quartiles = globals()[f'{drug}_list'].quantile([.25,.5,.75])\n",
    "    \n",
    "    lowerq = quartiles[0.25]\n",
    "    lowerq_list.append(lowerq)\n",
    "    \n",
    "    upperq = quartiles[0.75]\n",
    "    upperq_list.append(upperq)\n",
    "    \n",
    "    #Calculate IQR\n",
    "    iqr = upperq-lowerq\n",
    "    iqr_list.append(iqr)\n",
    "    \n",
    "    #Calculate lower and upper bounds\n",
    "    lower_bound = lowerq - (1.5*iqr)\n",
    "    lower_bound_list.append(lower_bound)\n",
    "    \n",
    "    upper_bound = upperq + (1.5*iqr)\n",
    "    upper_bound_list.append(upper_bound)\n",
    "    \n",
    "    #Iterate through tumor volume values and compare to upper and lower bounds. Place anomalies into an outlier list\n",
    "    outliers = []\n",
    "    for tumor_vol in globals()[f'{drug}_list']:\n",
    "        if tumor_vol < lower_bound:\n",
    "            outliers.append(tumor_vol)\n",
    "        elif tumor_vol > upper_bound:\n",
    "            outliers.append(tumor_vol)\n",
    "        else:\n",
    "            next\n",
    "    \n",
    "    #Append outliers found for drug into the final outlier list\n",
    "    outlier_list.append(outliers)\n",
    "\n",
    "    #Produce Box Plot for each drug by adding as a subplot to the figure created at the very top\n",
    "    fig.add_subplot(i)\n",
    "    plt.boxplot(globals()[f'{drug}_list'])\n",
    "    plt.title(f'{drug} Trial Results')\n",
    "    plt.ylabel('Tumor Volume (mm3)')\n",
    "    plt.ylim(20,80)\n",
    "    plt.show()\n",
    "    i=i+1\n",
    "    \n",
    "    #Print all desired statistics underneath each box plot\n",
    "    print(f'The box plot stats the {drug} trials are:')\n",
    "    print(f'Lower Quartile: {lowerq:.2f}') #Lower Quartile\n",
    "    print(f'Upper Quartile: {upperq:.2f}') #Upper Quartile\n",
    "    print(f'IQR: {iqr:.2f}') #IQR\n",
    "    print(f'Outlier Upper Bound: {upper_bound:.2f}') #Outlier Upper\n",
    "    print(f'Outlier Lower Bound: {lower_bound:.2f}') #Outlier Lower\n",
    "    \n",
    "    #To print all the outliers, define funtion that prints outliers if given a list of outliers\n",
    "    def outliers_print(a_list):\n",
    "        print(f'Outliers: ', end='')\n",
    "        for outlier in a_list:\n",
    "            print(f'{outlier:.2f} ')\n",
    "    \n",
    "    #We only want to print outliers if there is an outlier\n",
    "    if len(outliers) > 0:\n",
    "        outliers_print(outliers)\n",
    "    else:\n",
    "        next"
   ]
  },
  {
   "cell_type": "markdown",
   "metadata": {},
   "source": [
    "## Line and Scatter Plots"
   ]
  },
  {
   "cell_type": "code",
   "execution_count": 33,
   "metadata": {
    "scrolled": true
   },
   "outputs": [
    {
     "data": {
      "image/png": "[encoded data removed]",
      "text/plain": [
       "<Figure size 432x288 with 1 Axes>"
      ]
     },
     "metadata": {
      "needs_background": "light"
     },
     "output_type": "display_data"
    }
   ],
   "source": [
    "# Generate a line plot of tumor volume vs. time point for a mouse treated with Capomulin\n",
    "\n",
    "#Create dataframe for Capomulin drug\n",
    "capomulin_df = clean_data.loc[(clean_data['Drug Regimen']=='Capomulin'),:]\n",
    "\n",
    "#Randomly generate index of a mouse we want to chart\n",
    "mouse_index = random.randint(0,len(capomulin_df))\n",
    "\n",
    "#Pull Mouse_ID of a Capomulin mouse\n",
    "mouse = capomulin_df.iloc[mouse_index,0]\n",
    "\n",
    "#Get tumor volume and time points of mouse\n",
    "capomulin_df = capomulin_df.set_index('Mouse_ID')\n",
    "tumor_vol = capomulin_df.loc[mouse,\"Tumor Volume (mm3)\"].tolist()\n",
    "time_points = capomulin_df.loc[mouse,\"Timepoint\"].tolist()\n",
    "\n",
    "#Create line plot\n",
    "mouse_plot, = plt.plot(time_points, tumor_vol, label = mouse)\n",
    "plt.title(f'{mouse} Capomulin Study')\n",
    "plt.xlabel(\"Timepoint (days)\")\n",
    "plt.ylabel(\"Tumor Volume (mm3)\")\n",
    "plt.legend(handles = [mouse_plot],loc='best')\n",
    "plt.show()"
   ]
  },
  {
   "cell_type": "code",
   "execution_count": 23,
   "metadata": {
    "scrolled": true
   },
   "outputs": [
    {
     "data": {
      "image/png": "[encoded data removed]",
      "text/plain": [
       "<Figure size 432x288 with 1 Axes>"
      ]
     },
     "metadata": {
      "needs_background": "light"
     },
     "output_type": "display_data"
    }
   ],
   "source": [
    "# Generate a scatter plot of average tumor volume vs. mouse weight for the Capomulin regimen\n",
    "\n",
    "#Determine average tumor volume by using groupby function\n",
    "capomulin_avg = capomulin_df.groupby('Mouse_ID').mean()\n",
    "\n",
    "avg_tumor_list = capomulin_avg.loc[:,'Tumor Volume (mm3)']\n",
    "weight_list = capomulin_avg.loc[:,'Weight (g)']\n",
    "\n",
    "plt.scatter(avg_tumor_list, weight_list, marker=\"o\", facecolors=\"blue\", edgecolors=\"black\", alpha=.75)\n",
    "plt.title(\"Capomulin Study: Volume vs Weight\")\n",
    "plt.xlabel('Tumor Volume (mm3)',labelpad=10)\n",
    "plt.ylabel('Weight (g)',labelpad=10)\n",
    "plt.ylim(min(weight_list)-2,max(weight_list)+2)\n",
    "plt.show()"
   ]
  },
  {
   "cell_type": "markdown",
   "metadata": {},
   "source": [
    "## Correlation and Regression"
   ]
  },
  {
   "cell_type": "code",
   "execution_count": 20,
   "metadata": {},
   "outputs": [
    {
     "name": "stdout",
     "output_type": "stream",
     "text": [
      "The correlation between both factors is 0.84\n"
     ]
    },
    {
     "data": {
      "image/png": "[encoded data removed]",
      "text/plain": [
       "<Figure size 432x288 with 1 Axes>"
      ]
     },
     "metadata": {
      "needs_background": "light"
     },
     "output_type": "display_data"
    }
   ],
   "source": [
    "# Calculate the correlation coefficient and linear regression model \n",
    "# for mouse weight and average tumor volume for the Capomulin regimen\n",
    "\n",
    "correlation = st.pearsonr(avg_tumor_list,weight_list)\n",
    "print(f\"The correlation between both factors is {round(correlation[0],2)}\")\n",
    "\n",
    "#Determine slope and intercept of regression line\n",
    "(slope, intercept, rvalue, pvalue, stderr) =  linregress(avg_tumor_list, weight_list)\n",
    "\n",
    "#Calculate y values of the regression line (x values are the weight)\n",
    "regress_values = slope* avg_tumor_list + intercept #y = mx + b\n",
    "line_eq = \"y = \" + str(round(slope,2)) + \"x + \" + str(round(intercept,2))\n",
    "\n",
    "#Plot the original scatter plot\n",
    "plt.scatter(avg_tumor_list, weight_list, marker=\"o\", facecolors=\"blue\", edgecolors=\"black\", alpha=.75)\n",
    "plt.title(\"Capomulin Study: Volume vs Weight\")\n",
    "plt.xlabel('Tumor Volume (mm3)',labelpad=10)\n",
    "plt.ylabel('Weight (g)',labelpad=10)\n",
    "plt.ylim(min(weight_list)-2,max(weight_list)+2)\n",
    "\n",
    "\n",
    "#Plot the regressions line\n",
    "plt.plot(avg_tumor_list,regress_values,color=\"red\",linewidth=.5)\n",
    "plt.annotate(line_eq,(35.5,15.5),fontsize=15,color=\"red\")\n",
    "plt.show()"
   ]
  }
 ],
 "metadata": {
  "anaconda-cloud": {},
  "kernelspec": {
   "display_name": "Python [conda env:PythonData] *",
   "language": "python",
   "name": "conda-env-PythonData-py"
  },
  "language_info": {
   "codemirror_mode": {
    "name": "ipython",
    "version": 3
   },
   "file_extension": ".py",
   "mimetype": "text/x-python",
   "name": "python",
   "nbconvert_exporter": "python",
   "pygments_lexer": "ipython3",
   "version": "3.6.10"
  }
 },
 "nbformat": 4,
 "nbformat_minor": 4
}
